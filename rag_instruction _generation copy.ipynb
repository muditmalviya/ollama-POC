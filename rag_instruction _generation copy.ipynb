{
 "cells": [
  {
   "cell_type": "markdown",
   "id": "d4d5cab6-515e-4dd6-95ae-6393f0c4435c",
   "metadata": {},
   "source": [
    "## Ingesting PDF"
   ]
  },
  {
   "cell_type": "code",
   "execution_count": 1,
   "id": "c2e8b999-83ba-484a-9b94-f56c201d2036",
   "metadata": {},
   "outputs": [
    {
     "name": "stdout",
     "output_type": "stream",
     "text": [
      "Note: you may need to restart the kernel to use updated packages.\n",
      "Note: you may need to restart the kernel to use updated packages.\n"
     ]
    }
   ],
   "source": [
    "%pip install --q unstructured langchain\n",
    "%pip install --q \"unstructured[all-docs]\""
   ]
  },
  {
   "cell_type": "code",
   "execution_count": 2,
   "id": "3c0e2f74-7c4b-4665-8d87-bc00656f31e0",
   "metadata": {},
   "outputs": [],
   "source": [
    "from langchain_community.document_loaders import UnstructuredPDFLoader\n",
    "from langchain_community.document_loaders import OnlinePDFLoader"
   ]
  },
  {
   "cell_type": "code",
   "execution_count": 5,
   "id": "104c0b18-1c06-41a1-a2ca-f9ee23f4f952",
   "metadata": {},
   "outputs": [],
   "source": [
    "local_path = \"repair_manual.pdf\"\n",
    "\n",
    "# Local PDF file uploads\n",
    "if local_path:\n",
    "  loader = UnstructuredPDFLoader(file_path=local_path)\n",
    "  data = loader.load()\n",
    "else:\n",
    "  print(\"Upload a PDF file\")"
   ]
  },
  {
   "cell_type": "code",
   "execution_count": 6,
   "id": "38119195-9c91-4e58-aa46-8a74244032af",
   "metadata": {
    "scrolled": true
   },
   "outputs": [
    {
     "data": {
      "text/plain": [
       "\"MRC Factory Equipment Repair Manual\\n\\nEquipment 1: Laptop Problem 1: Slow Performance\\n\\nSteps to fix this problem:\\n\\n1. Close Unnecessary Programs: Open Task Manager (Ctrl + Shift + Esc) and close\\n\\nprograms that are consuming high resources.\\n\\n2. Disk Cleanup: Run Disk Cleanup (search for it in the Start menu) to remove temporary\\n\\nfiles and system cache.\\n\\n3. Update System and Drivers: Go to Settings > Update & Security > Windows Update to\\n\\ncheck for updates, and update all drivers through Device Manager.\\n\\nProblem 2: Overheating\\n\\nSteps to fix this problem:\\n\\n1. Clean the Vents: Use compressed air to clean the dust from the laptop's vents and fans. 2. Check for Background Processes: Close unnecessary background processes using Task Manager.\\n\\n3. Use a Cooling Pad: Place the laptop on a cooling pad to help dissipate heat.\\n\\nProblem 3: Battery Draining Quickly\\n\\nSteps to fix this problem:\\n\\n1. Reduce Screen Brightness: Lower the screen brightness through the settings or\\n\\nkeyboard shortcuts.\\n\\n2. Turn Off Unused Features: Disable Bluetooth, Wi-Fi, and background apps when not in\\n\\nuse.\\n\\n3. Battery Calibration: Fully charge the battery, then completely drain it, and fully charge it\\n\\nagain to recalibrate the battery.\\n\\nEquipment 2: Printer Problem 1: Paper Jams\\n\\nSteps to fix this problem:\\n\\n1. Turn Off the Printer: Turn off the printer and unplug it from the power source. 2. Remove Jammed Paper: Open all access doors and gently remove any jammed paper. 3. Check Rollers and Trays: Inspect the rollers and trays for any stuck paper pieces and clean them if necessary.\\n\\nProblem 2: Poor Print Quality\\n\\nSteps to fix this problem:\\n\\n1. Check Ink or Toner Levels: Ensure that there is enough ink or toner in the printer\\n\\ncartridges.\\n\\n2. Clean Print Heads: Use the printer's software to run a print head cleaning cycle. 3. Adjust Print Settings: Go to the printer settings and select the appropriate paper type and print quality.\\n\\n4. Problem 3: Printer Not Connecting to Wi-Fi\\n\\nSteps to fix this problem:\\n\\n1. Restart the Printer and Router: Turn off both the printer and router, wait a few seconds,\\n\\nand turn them back on.\\n\\n2. Reconnect to Wi-Fi: Use the printer's control panel to reconnect to the Wi-Fi network by\\n\\nselecting the correct network and entering the password.\\n\\n3. Update Firmware: Check the printer's website for firmware updates and install them if\\n\\navailable.\\n\\nEquipment 3: Smartphone Problem 1: Battery Drains Quickly\\n\\nSteps to fix this problem:\\n\\n1. Lower Screen Brightness: Adjust the screen brightness to a lower level or enable\\n\\nauto-brightness.\\n\\n2. Close Background Apps: Close apps running in the background by accessing the\\n\\nrecent apps menu.\\n\\n3. Update Software: Check for system and app updates in the settings and install them.\\n\\nProblem 2: Overheating\\n\\nSteps to fix this problem:\\n\\n1. Avoid Heavy Use While Charging: Do not use resource-intensive apps while charging\\n\\nthe phone.\\n\\n2. Remove Case: Remove the phone case to allow better heat dissipation. 3. Update Apps and Firmware: Ensure all apps and the phone’s firmware are up-to-date.\\n\\nProblem 3: Slow Performance\\n\\nSteps to fix this problem:\\n\\n1. Clear Cache: Go to Settings > Storage > Cached data and clear the cache. 2. Uninstall Unused Apps: Remove apps that are not frequently used. 3. Factory Reset: If performance issues persist, back up important data and perform a factory reset.\\n\\nEquipment 4: Router Problem 1: Slow Internet Speed\\n\\nSteps to fix this problem:\\n\\n1. Reboot the Router: Turn off the router, wait for 30 seconds, and turn it back on. 2. Update Firmware: Check the manufacturer’s website for firmware updates and apply them.\\n\\n3. Change Wi-Fi Channel: Access the router settings and change the Wi-Fi channel to\\n\\nreduce interference.\\n\\nProblem 2: Frequent Disconnections\\n\\nSteps to fix this problem:\\n\\n1. Check Cable Connections: Ensure all cables are securely connected. 2. Move the Router: Place the router in a central location, away from walls and electronic devices.\\n\\n3. Factory Reset: Reset the router to factory settings and reconfigure the network.\\n\\nProblem 3: Weak Signal\\n\\nSteps to fix this problem:\\n\\n1. Reposition Antennas: Adjust the position of the router’s antennas to improve signal\\n\\nstrength.\\n\\n2. Use a Wi-Fi Extender: Install a Wi-Fi extender to boost the signal in weak areas. 3. Update Router Firmware: Check for and install the latest firmware updates.\\n\\nEquipment 5: Air Conditioner Problem 1: Not Cooling Properly\\n\\nSteps to fix this problem:\\n\\n1. Clean the Filters: Remove and clean the air filters to ensure proper airflow. 2. Check Thermostat Settings: Ensure the thermostat is set to the correct temperature. 3. Inspect Refrigerant Levels: Contact a technician to check and refill refrigerant levels if necessary.\\n\\nProblem 2: Leaking Water\\n\\nSteps to fix this problem:\\n\\n1. Unclog the Drain Pipe: Check and clear any clogs in the condensate drain pipe. 2. Ensure Proper Installation: Make sure the unit is installed level to avoid water accumulation.\\n\\n3. Clean the Coils: Clean the evaporator and condenser coils to prevent icing and leaks.\\n\\nProblem 3: Strange Noises\\n\\nSteps to fix this problem:\\n\\n1. Tighten Loose Parts: Inspect and tighten any loose screws or parts. 2. Check Fan Blades: Ensure fan blades are not hitting any obstructions. 3. Contact a Technician: If the noise persists, call a professional for a detailed inspection.\\n\\nEquipment 6: Washing Machine Problem 1: Not Draining\\n\\nSteps to fix this problem:\\n\\n1. Check the Drain Hose: Ensure the drain hose is not kinked or clogged. 2. Clean the Pump Filter: Locate and clean the pump filter to remove any blockages. 3. Inspect the Lid Switch: Make sure the lid switch is functioning correctly, as it can prevent draining.\\n\\nProblem 2: Excessive Vibration\\n\\nSteps to fix this problem:\\n\\n1. Balance the Load: Ensure the load is evenly distributed inside the drum. 2. Level the Machine: Adjust the feet of the washing machine to make it level. 3. Check for Worn Shock Absorbers: Inspect and replace any worn shock absorbers or suspension springs.\\n\\nProblem 3: Foul Odor\\n\\nSteps to fix this problem:\\n\\n1. Clean the Drum: Run a cleaning cycle with a mixture of vinegar and baking soda or use\\n\\na commercial washing machine cleaner.\\n\\n2. Leave Door Open: Leave the door open after each wash to allow the interior to dry and\\n\\nprevent mold growth.\\n\\n3. Clean the Detergent Drawer: Remove and clean the detergent drawer to remove any\\n\\nresidue buildup.\""
      ]
     },
     "execution_count": 6,
     "metadata": {},
     "output_type": "execute_result"
    }
   ],
   "source": [
    "# Preview first page\n",
    "data[0].page_content"
   ]
  },
  {
   "cell_type": "markdown",
   "id": "c2faacc1-be29-4d52-a46e-94f5b5b8e728",
   "metadata": {},
   "source": [
    "## Vector Embeddings"
   ]
  },
  {
   "cell_type": "code",
   "execution_count": 7,
   "id": "2dcf2cfe-a7aa-4ecf-85e3-f77b9e850514",
   "metadata": {
    "scrolled": true
   },
   "outputs": [
    {
     "name": "stdout",
     "output_type": "stream",
     "text": [
      "\u001b[?25lpulling manifest ⠋ \u001b[?25h\u001b[?25l\u001b[2K\u001b[1Gpulling manifest ⠙ \u001b[?25h\u001b[?25l\u001b[2K\u001b[1Gpulling manifest ⠹ \u001b[?25h\u001b[?25l\u001b[2K\u001b[1Gpulling manifest ⠸ \u001b[?25h\u001b[?25l\u001b[2K\u001b[1Gpulling manifest ⠼ \u001b[?25h\u001b[?25l\u001b[2K\u001b[1Gpulling manifest ⠴ \u001b[?25h\u001b[?25l\u001b[2K\u001b[1Gpulling manifest ⠦ \u001b[?25h\u001b[?25l\u001b[2K\u001b[1Gpulling manifest ⠧ \u001b[?25h\u001b[?25l\u001b[2K\u001b[1Gpulling manifest ⠇ \u001b[?25h\u001b[?25l\u001b[2K\u001b[1Gpulling manifest ⠏ \u001b[?25h\u001b[?25l\u001b[2K\u001b[1Gpulling manifest ⠋ \u001b[?25h\u001b[?25l\u001b[2K\u001b[1Gpulling manifest ⠙ \u001b[?25h\u001b[?25l\u001b[2K\u001b[1Gpulling manifest ⠹ \u001b[?25h\u001b[?25l\u001b[2K\u001b[1Gpulling manifest ⠸ \u001b[?25h\u001b[?25l\u001b[2K\u001b[1Gpulling manifest ⠼ \u001b[?25h\u001b[?25l\u001b[2K\u001b[1Gpulling manifest ⠴ \u001b[?25h\u001b[?25l\u001b[2K\u001b[1Gpulling manifest ⠦ \u001b[?25h\u001b[?25l\u001b[2K\u001b[1Gpulling manifest \n",
      "pulling 970aa74c0a90... 100% ▕████████████████▏ 274 MB                         \n",
      "pulling c71d239df917... 100% ▕████████████████▏  11 KB                         \n",
      "pulling ce4a164fc046... 100% ▕████████████████▏   17 B                         \n",
      "pulling 31df23ea7daa... 100% ▕████████████████▏  420 B                         \n",
      "verifying sha256 digest ⠋ \u001b[?25h\u001b[?25l\u001b[2K\u001b[1G\u001b[A\u001b[2K\u001b[1G\u001b[A\u001b[2K\u001b[1G\u001b[A\u001b[2K\u001b[1G\u001b[A\u001b[2K\u001b[1G\u001b[A\u001b[2K\u001b[1Gpulling manifest \n",
      "pulling 970aa74c0a90... 100% ▕████████████████▏ 274 MB                         \n",
      "pulling c71d239df917... 100% ▕████████████████▏  11 KB                         \n",
      "pulling ce4a164fc046... 100% ▕████████████████▏   17 B                         \n",
      "pulling 31df23ea7daa... 100% ▕████████████████▏  420 B                         \n",
      "verifying sha256 digest ⠙ \u001b[?25h\u001b[?25l\u001b[2K\u001b[1G\u001b[A\u001b[2K\u001b[1G\u001b[A\u001b[2K\u001b[1G\u001b[A\u001b[2K\u001b[1G\u001b[A\u001b[2K\u001b[1G\u001b[A\u001b[2K\u001b[1Gpulling manifest \n",
      "pulling 970aa74c0a90... 100% ▕████████████████▏ 274 MB                         \n",
      "pulling c71d239df917... 100% ▕████████████████▏  11 KB                         \n",
      "pulling ce4a164fc046... 100% ▕████████████████▏   17 B                         \n",
      "pulling 31df23ea7daa... 100% ▕████████████████▏  420 B                         \n",
      "verifying sha256 digest ⠹ \u001b[?25h\u001b[?25l\u001b[2K\u001b[1G\u001b[A\u001b[2K\u001b[1G\u001b[A\u001b[2K\u001b[1G\u001b[A\u001b[2K\u001b[1G\u001b[A\u001b[2K\u001b[1G\u001b[A\u001b[2K\u001b[1Gpulling manifest \n",
      "pulling 970aa74c0a90... 100% ▕████████████████▏ 274 MB                         \n",
      "pulling c71d239df917... 100% ▕████████████████▏  11 KB                         \n",
      "pulling ce4a164fc046... 100% ▕████████████████▏   17 B                         \n",
      "pulling 31df23ea7daa... 100% ▕████████████████▏  420 B                         \n",
      "verifying sha256 digest ⠸ \u001b[?25h\u001b[?25l\u001b[2K\u001b[1G\u001b[A\u001b[2K\u001b[1G\u001b[A\u001b[2K\u001b[1G\u001b[A\u001b[2K\u001b[1G\u001b[A\u001b[2K\u001b[1G\u001b[A\u001b[2K\u001b[1Gpulling manifest \n",
      "pulling 970aa74c0a90... 100% ▕████████████████▏ 274 MB                         \n",
      "pulling c71d239df917... 100% ▕████████████████▏  11 KB                         \n",
      "pulling ce4a164fc046... 100% ▕████████████████▏   17 B                         \n",
      "pulling 31df23ea7daa... 100% ▕████████████████▏  420 B                         \n",
      "verifying sha256 digest \n",
      "writing manifest \n",
      "removing any unused layers \n",
      "success \u001b[?25h\n"
     ]
    }
   ],
   "source": [
    "!ollama pull nomic-embed-text"
   ]
  },
  {
   "cell_type": "code",
   "execution_count": 8,
   "id": "39aebbf8-92bf-42e5-951e-40bb458852d5",
   "metadata": {},
   "outputs": [
    {
     "name": "stdout",
     "output_type": "stream",
     "text": [
      "NAME                   \tID          \tSIZE  \tMODIFIED      \n",
      "mistral:latest         \t2ae6f6dd7a3d\t4.1 GB\t36 hours ago \t\n",
      "nomic-embed-text:latest\t0a109f422b47\t274 MB\t3 seconds ago\t\n"
     ]
    }
   ],
   "source": [
    "!ollama list"
   ]
  },
  {
   "cell_type": "code",
   "execution_count": 9,
   "id": "5394d61f-906b-4776-b8b5-9f0045c76193",
   "metadata": {},
   "outputs": [
    {
     "name": "stdout",
     "output_type": "stream",
     "text": [
      "Note: you may need to restart the kernel to use updated packages.\n",
      "Note: you may need to restart the kernel to use updated packages.\n"
     ]
    }
   ],
   "source": [
    "%pip install --q chromadb\n",
    "%pip install --q langchain-text-splitters"
   ]
  },
  {
   "cell_type": "code",
   "execution_count": 10,
   "id": "83a39856-0cc0-4ebe-8024-9db32455a545",
   "metadata": {},
   "outputs": [],
   "source": [
    "from langchain_community.embeddings import OllamaEmbeddings\n",
    "from langchain_text_splitters import RecursiveCharacterTextSplitter\n",
    "from langchain_community.vectorstores import Chroma"
   ]
  },
  {
   "cell_type": "code",
   "execution_count": 11,
   "id": "bad040e2-3abe-4e23-abb9-951b223b9262",
   "metadata": {},
   "outputs": [],
   "source": [
    "# Split and chunk \n",
    "text_splitter = RecursiveCharacterTextSplitter(chunk_size=7500, chunk_overlap=100)\n",
    "chunks = text_splitter.split_documents(data)"
   ]
  },
  {
   "cell_type": "code",
   "execution_count": 12,
   "id": "efb11c92-e732-4a88-8f57-57a19b38e383",
   "metadata": {},
   "outputs": [
    {
     "name": "stderr",
     "output_type": "stream",
     "text": [
      "OllamaEmbeddings: 100%|██████████| 1/1 [00:03<00:00,  3.66s/it]\n"
     ]
    }
   ],
   "source": [
    "# Add to vector database\n",
    "vector_db = Chroma.from_documents(\n",
    "    documents=chunks, \n",
    "    embedding=OllamaEmbeddings(model=\"nomic-embed-text\",show_progress=True),\n",
    "    collection_name=\"local-rag\"\n",
    ")"
   ]
  },
  {
   "cell_type": "markdown",
   "id": "39eadf50-2f3d-4420-8858-94e9c1682ffa",
   "metadata": {},
   "source": [
    "## Retrieval"
   ]
  },
  {
   "cell_type": "code",
   "execution_count": 13,
   "id": "5ec338c4-f282-462f-b0a0-c1899538eb07",
   "metadata": {},
   "outputs": [],
   "source": [
    "from langchain.prompts import ChatPromptTemplate, PromptTemplate\n",
    "from langchain_core.output_parsers import StrOutputParser\n",
    "from langchain_community.chat_models import ChatOllama\n",
    "from langchain_core.runnables import RunnablePassthrough\n",
    "from langchain.retrievers.multi_query import MultiQueryRetriever"
   ]
  },
  {
   "cell_type": "code",
   "execution_count": 14,
   "id": "d1d6ceeb-6883-4688-b923-e771c2b2cb07",
   "metadata": {},
   "outputs": [],
   "source": [
    "# LLM from Ollama\n",
    "local_model = \"mistral\"\n",
    "llm = ChatOllama(model=local_model)"
   ]
  },
  {
   "cell_type": "code",
   "execution_count": 15,
   "id": "c436d5cd-5dd0-448c-b5c0-6eddab879c2a",
   "metadata": {},
   "outputs": [],
   "source": [
    "QUERY_PROMPT = PromptTemplate(\n",
    "    input_variables=[\"question\"],\n",
    "    template=\"\"\"You are an AI language model assistant. Your task is to generate five\n",
    "    different versions of the given user question to retrieve relevant documents from\n",
    "    a vector database. By generating multiple perspectives on the user question, your\n",
    "    goal is to help the user overcome some of the limitations of the distance-based\n",
    "    similarity search. Provide these alternative questions separated by newlines.\n",
    "    Original question: {question}\"\"\",\n",
    ")"
   ]
  },
  {
   "cell_type": "code",
   "execution_count": 16,
   "id": "71e423dc-f632-46f8-9bec-d74cb268ab74",
   "metadata": {},
   "outputs": [],
   "source": [
    "retriever = MultiQueryRetriever.from_llm(\n",
    "    vector_db.as_retriever(), \n",
    "    llm,\n",
    "    prompt=QUERY_PROMPT\n",
    ")\n",
    "\n",
    "# RAG prompt\n",
    "template = \"\"\"Answer the question based ONLY on the following context:\n",
    "{context}\n",
    "Question: {question}\n",
    "\"\"\"\n",
    "\n",
    "prompt = ChatPromptTemplate.from_template(template)"
   ]
  },
  {
   "cell_type": "code",
   "execution_count": 17,
   "id": "cb1f308f-8472-4506-9517-d79b61d408f2",
   "metadata": {},
   "outputs": [],
   "source": [
    "chain = (\n",
    "    {\"context\": retriever, \"question\": RunnablePassthrough()}\n",
    "    | prompt\n",
    "    | llm\n",
    "    | StrOutputParser()\n",
    ")"
   ]
  },
  {
   "cell_type": "code",
   "execution_count": 26,
   "id": "915fb18b-cb57-42cf-a9b3-c6f95d3c4e32",
   "metadata": {
    "scrolled": true
   },
   "outputs": [
    {
     "name": "stderr",
     "output_type": "stream",
     "text": [
      "OllamaEmbeddings: 100%|██████████| 1/1 [00:00<00:00,  2.36it/s]\n",
      "OllamaEmbeddings: 100%|██████████| 1/1 [00:00<00:00, 13.56it/s]\n",
      "OllamaEmbeddings: 100%|██████████| 1/1 [00:00<00:00,  5.18it/s]\n",
      "OllamaEmbeddings: 100%|██████████| 1/1 [00:00<00:00,  9.79it/s]\n",
      "OllamaEmbeddings: 100%|██████████| 1/1 [00:00<00:00,  6.38it/s]\n"
     ]
    },
    {
     "data": {
      "text/plain": [
       "' This document appears to be a report titled \"Navigating Global Divergences\" by the McKinsey Global Institute (MGI), a business and economics research arm of the consulting firm McKinsey & Company. The report discusses challenges faced by the global economy, including economic fragmentation, rising costs associated with it, and potential solutions to these issues. It highlights the role of generative artificial intelligence (AI) in driving future productivity growth as well as the need for sustainable, inclusive growth. The document also mentions various other topics such as climate change, violent conflicts, trade, geopolitics, and the impact of global value chains on economies. The report does not provide specific recommendations or solutions to address these challenges but rather presents data, insights, and perspectives on the current state of the global economy.'"
      ]
     },
     "execution_count": 26,
     "metadata": {},
     "output_type": "execute_result"
    }
   ],
   "source": [
    "chain.invoke(input(\"\"))"
   ]
  },
  {
   "cell_type": "code",
   "execution_count": 18,
   "id": "06c25c1d-d205-409e-90a2-179d0bd7c41a",
   "metadata": {},
   "outputs": [
    {
     "name": "stderr",
     "output_type": "stream",
     "text": [
      "OllamaEmbeddings: 100%|██████████| 1/1 [00:00<00:00,  1.29it/s]\n",
      "Number of requested results 4 is greater than number of elements in index 1, updating n_results = 1\n",
      "OllamaEmbeddings: 100%|██████████| 1/1 [00:00<00:00, 10.28it/s]\n",
      "Number of requested results 4 is greater than number of elements in index 1, updating n_results = 1\n",
      "OllamaEmbeddings: 100%|██████████| 1/1 [00:00<00:00,  4.63it/s]\n",
      "Number of requested results 4 is greater than number of elements in index 1, updating n_results = 1\n",
      "OllamaEmbeddings: 100%|██████████| 1/1 [00:00<00:00,  8.11it/s]\n",
      "Number of requested results 4 is greater than number of elements in index 1, updating n_results = 1\n",
      "OllamaEmbeddings: 100%|██████████| 1/1 [00:00<00:00,  5.61it/s]\n",
      "Number of requested results 4 is greater than number of elements in index 1, updating n_results = 1\n"
     ]
    },
    {
     "data": {
      "text/plain": [
       "' To fix slow performance on your laptop, follow these steps based on the provided repair manual:\\n\\n1. Close Unnecessary Programs: Open Task Manager (Ctrl + Shift + Esc) and close programs that are consuming high resources.\\n2. Disk Cleanup: Run Disk Cleanup (search for it in the Start menu) to remove temporary files and free up space on your system.\\n3. Update Software: Make sure all software is up-to-date, including your operating system and any installed applications. This can help improve performance and stability.\\n4. Consider Additional Solutions: If the issue persists after trying these steps, you may need to consider additional solutions such as adding more RAM or using a solid-state drive (SSD) instead of a traditional hard drive (HDD). In some cases, it might be necessary to reinstall your operating system or even consider upgrading your laptop hardware.'"
      ]
     },
     "execution_count": 18,
     "metadata": {},
     "output_type": "execute_result"
    }
   ],
   "source": [
    "chain.invoke(\"My laptop is having slow performance how to fix?\")"
   ]
  },
  {
   "cell_type": "code",
   "execution_count": null,
   "id": "dfe79f21-48aa-4820-aa9f-79f3d1a0a519",
   "metadata": {},
   "outputs": [],
   "source": [
    "# Delete all collections in the db\n",
    "vector_db.delete_collection()"
   ]
  }
 ],
 "metadata": {
  "kernelspec": {
   "display_name": "Python 3 (ipykernel)",
   "language": "python",
   "name": "python3"
  },
  "language_info": {
   "codemirror_mode": {
    "name": "ipython",
    "version": 3
   },
   "file_extension": ".py",
   "mimetype": "text/x-python",
   "name": "python",
   "nbconvert_exporter": "python",
   "pygments_lexer": "ipython3",
   "version": "3.10.12"
  }
 },
 "nbformat": 4,
 "nbformat_minor": 5
}
