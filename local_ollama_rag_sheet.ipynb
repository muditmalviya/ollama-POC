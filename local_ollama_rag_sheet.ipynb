{
 "cells": [
  {
   "cell_type": "markdown",
   "id": "d4d5cab6-515e-4dd6-95ae-6393f0c4435c",
   "metadata": {},
   "source": [
    "## Ingesting PDF"
   ]
  },
  {
   "cell_type": "code",
   "execution_count": 1,
   "id": "c2e8b999-83ba-484a-9b94-f56c201d2036",
   "metadata": {},
   "outputs": [
    {
     "name": "stdout",
     "output_type": "stream",
     "text": [
      "Note: you may need to restart the kernel to use updated packages.\n",
      "Note: you may need to restart the kernel to use updated packages.\n"
     ]
    }
   ],
   "source": [
    "%pip install --q unstructured langchain\n",
    "%pip install --q \"unstructured[all-docs]\""
   ]
  },
  {
   "cell_type": "code",
   "execution_count": 2,
   "id": "3c0e2f74-7c4b-4665-8d87-bc00656f31e0",
   "metadata": {},
   "outputs": [],
   "source": [
    "from langchain_community.document_loaders import UnstructuredExcelLoader"
   ]
  },
  {
   "cell_type": "code",
   "execution_count": 4,
   "id": "104c0b18-1c06-41a1-a2ca-f9ee23f4f952",
   "metadata": {},
   "outputs": [],
   "source": [
    "local_path = \"TRD Tracker.xlsx\"\n",
    "\n",
    "# Local PDF file uploads\n",
    "if local_path:\n",
    "  loader = UnstructuredExcelLoader(file_path=local_path)\n",
    "  data = loader.load()\n",
    "else:\n",
    "  print(\"Upload a Excel file\")"
   ]
  },
  {
   "cell_type": "code",
   "execution_count": 5,
   "id": "38119195-9c91-4e58-aa46-8a74244032af",
   "metadata": {
    "scrolled": true
   },
   "outputs": [
    {
     "data": {
      "text/plain": [
       "'\\n\\n\\nIndex\\nSprint\\nProject\\nStory Title\\nJira Link\\nTRD Link\\nLinked added to Story\\nTRD Start time\\nTRD End Time\\nTRD Owner\\nTRD Done\\nTRD Verified\\n\\n\\n1\\n2407 Sprint 1\\nmWorkorder 2.0\\nAudio Response Type-Android\\nMWO2-302\\nhttps://docs.google.com/document/d/1ATY9h2ZSQw2SSp-wJGPh3eLTkjjuCI0IxkTj0Wm4jJw/edit#heading=h.sull3h3zm0u6\\n\\n\\n\\nMudit\\n\\n\\n\\n\\n2\\n2407 Sprint 1\\nmWorkorder 2.0\\nIssue List View - Filter Functionality - iOS\\nMWO2-418\\nhttps://docs.google.com/document/d/1VigJ_maz8InMSC9fMfg-aM19VXjv0wOWor3oDLYRcsE/edit?usp=sharing\\n\\n\\n\\nMudit\\n\\n\\n\\n\\n3\\n2407 Sprint 1\\nmWorkorder 2.0\\nBasic Authentication - iOS\\nMWO2-810\\nhttps://docs.google.com/document/d/1NI6DVyEw0cDbhUAxHCS0upqAYn98klinagY_vv3BXt8/edit?usp=sharing\\n\\n\\n\\nMudit\\n\\n\\n\\n\\n4\\n2407 Sprint 1\\nmWorkorder 2.0\\nBasic Authentication - Android\\nMWO2-811\\nhttps://docs.google.com/document/d/1TtxBXxEG6SRK0uvZhMjAIRBhObWqnpg-2xb3l2t8AKQ/edit?usp=sharing\\n\\n\\n\\nMudit\\n\\n\\n\\n\\n5\\n2407 Sprint 1\\nmWorkorder 2.0\\nDynamic Domain Configuration - iOS\\nMWO2-812\\nhttps://docs.google.com/document/d/16cfQUnl5dUXP6wVv_wvAoARSbvX6-RFev4jm3ElcOtA/edit?usp=sharing\\n\\n\\n\\nMudit\\n\\n\\n\\n\\n6\\n2407 Sprint 1\\nmWorkorder 2.0\\nUser Sign Out - iOS\\nMWO2-814\\nhttps://docs.google.com/document/d/1sFUWhDPWd4N-BdIz2BJdZHgJiImGzJwn3d17EpE8TDg/edit?usp=sharing\\n\\n\\n\\nMudit\\n\\n\\n\\n\\n7\\n2407 Sprint 1\\nmWorkorder 2.0\\nUser Validation and Info - iOS\\nMWO2-816\\nhttps://docs.google.com/document/d/1yp1wUeWgs0mjBKqxytXMcawbQEwTHhXA9EgKtSORk2A/edit?usp=sharing\\n\\n\\n\\nMudit\\n\\n\\n\\n\\n8\\n2407 Sprint 1\\nmWorkorder 2.0\\nUser Validation and Info - Android\\nMWO2-817\\nhttps://docs.google.com/document/d/1sUvbhXOlKbfHPNOx9fmI7ceTy1dku1IkwbjTmnv1Zmk/edit?usp=sharing\\n\\n\\n\\nMudit\\n\\n\\n\\n\\n9\\n2407 Sprint 2\\nmWorkorder 2.0\\nAdd Operations from tasklist Feature: Search & Selection Feature- iOS\\nMWO2-543\\nhttps://docs.google.com/document/d/1eOG5u_kmO4Y0gk0AtXbJPjIRAyoNw5j12TrfxvHV86c/edit?usp=sharing\\nYes\\n27/06/24\\n27/06/24\\nMudit\\nYes\\n\\n\\n\\n10\\n2407 Sprint 2\\nmWorkorder 2.0\\nAdd Operations from Tasklist Feature: Search & Selection Feature- Android\\nMWO2-544\\nhttps://docs.google.com/document/d/1eOG5u_kmO4Y0gk0AtXbJPjIRAyoNw5j12TrfxvHV86c/edit?usp=sharing\\nYes\\n27/06/24\\n27/06/24\\nMudit\\nYes\\n\\n\\n\\n11\\n2407 Sprint 2\\nmWorkorder 2.0\\nAdd Components from BOM list Feature: Search & Selection Feature- Android\\nMWO2-545\\nhttps://docs.google.com/document/d/17fdfRLMhN6VDCrCjg3yUReOstqQXxFyJR7IUl0JZSWM/edit?usp=sharing\\nYes\\n27/06/24\\n27/06/24\\nMudit\\nYes\\n\\n\\n\\n12\\n2407 Sprint 2\\nmWorkorder 2.0\\nAdd Components from BOM list Feature: Search & Selection Feature- iOS\\nMWO2-548\\nhttps://docs.google.com/document/d/17fdfRLMhN6VDCrCjg3yUReOstqQXxFyJR7IUl0JZSWM/edit?usp=sharing\\nYes\\n27/06/24\\n27/06/24\\nMudit\\nYes\\n\\n\\n\\n13\\n2407 Sprint 2\\nmWorkorder 2.0\\n[Tech Debt][iOS] Image Compression\\nMWO2-952\\nhttps://docs.google.com/document/d/1XG22eLdDNYO_SP4Uaf4eq8Uh-sIqFEoiYdeOaKP-plg/edit?usp=sharing\\nYes\\n27/06/24\\n27/06/24\\nMudit\\nYes\\n\\n\\n\\n14\\n2407 Sprint 2\\nmWorkorder 2.0\\n[Tech Debt][Android] Image Compression\\nMWO2-953\\nhttps://docs.google.com/document/d/1XG22eLdDNYO_SP4Uaf4eq8Uh-sIqFEoiYdeOaKP-plg/edit?usp=sharing\\nYes\\n26/06/24\\n26/06/24\\nMudit\\nYes\\n\\n\\n\\n15\\n2407 Sprint 2\\nmWorkorder 2.0\\n[Tech Debt][iOS] Video Compression\\nMWO2-954\\nhttps://docs.google.com/document/d/1eKM7CnQ08B2t6lNo_o2Qt41lgFAnlnT44DdghmxRPAU/edit?usp=sharing\\nYes\\n26/06/24\\n26/06/24\\nMudit\\nYes\\n\\n\\n\\n16\\n2407 Sprint 2\\nmWorkorder 2.0\\n[Tech Debt][Android] Video Compression\\nMWO2-955\\nhttps://docs.google.com/document/d/1eKM7CnQ08B2t6lNo_o2Qt41lgFAnlnT44DdghmxRPAU/edit?usp=sharing\\nYes\\n26/06/24\\n26/06/24\\nMudit\\nYes\\n\\n\\n\\n17\\n2407 Sprint 2\\nmWorkorder 2.0\\n[Tech Debt][iOS] File Compression\\nMWO2-956\\nhttps://docs.google.com/document/d/19j-AffsAPW7XuC-fQZixV2H7p4hPr-_sYC9nXuhOtNw/edit?usp=sharing\\nYes\\n26/06/24\\n26/06/24\\nMudit\\nYes\\n\\n\\n\\n18\\n2407 Sprint 2\\nmWorkorder 2.0\\n[Tech Debt][Android] File Compression\\nMWO2-957\\nhttps://docs.google.com/document/d/19j-AffsAPW7XuC-fQZixV2H7p4hPr-_sYC9nXuhOtNw/edit?usp=sharing\\nYes\\n26/06/24\\n26/06/24\\nMudit\\nYes\\n\\n\\n\\n19\\n2407 Sprint 2\\nmWorkorder 2.0\\n[Android] More Tab - Settings and User Preferences Screen\\nMWO2-962\\nhttps://docs.google.com/document/d/1oei9UhsSGFEeOuvPGuevYMIMaOwTiBNvxxLAOV9XuBk/edit?usp=sharing\\nYes\\n26/06/24\\n26/06/24\\nMudit\\nYes\\n\\n\\n\\n20\\n2407 Sprint 2\\nmWorkorder 2.0\\n[iOS] More Tab - Settings and User Preferences Screen\\nMWO2-963\\nhttps://docs.google.com/document/d/1oei9UhsSGFEeOuvPGuevYMIMaOwTiBNvxxLAOV9XuBk/edit?usp=sharing\\nYes\\n26/06/24\\n26/06/24\\nMudit\\nYes\\n\\n\\n\\n21\\n2407 Sprint 2\\nmWorkorder 2.0\\n[iOS] Profile Details Card - Settings and User Preferences Screen\\nMWO2-964\\nhttps://docs.google.com/document/d/1QJI2RuRZUxLXoDhkje8PJeyd7hnKHxmXilZosRIaZm4/edit?usp=sharing\\nYes\\n27/06/24\\n27/06/24\\nVivek\\n\\n\\n\\n\\n22\\n2407 Sprint 2\\nmWorkorder 2.0\\n[iOS] Settings - Settings and User Preferences Screen\\nMWO2-967\\nhttps://docs.google.com/document/d/17guW-S_qwUuL7cHsA9llh2KXemxuImOR1hmociJSusQ/edit?usp=sharing\\nYes\\n27/06/24\\n27/06/24\\nVivek\\n\\n\\n\\n\\n23\\n2407 Sprint 2\\nmWorkorder 2.0\\n[Tech Debt][Android] Audio Compression\\nMWO2-971\\nhttps://docs.google.com/document/d/1SC9c9xmbV1LeXbmxG_uXyC_pSxAdB4rvEwxNMy4hCoM/edit?usp=sharing\\n\\n\\n\\nVivek\\n\\n\\n\\n\\n24\\n2407 Sprint 2\\nmWorkorder 2.0\\n[Tech Debt][iOS] Audio Compression\\nMWO2-972\\nhttps://docs.google.com/document/d/1SC9c9xmbV1LeXbmxG_uXyC_pSxAdB4rvEwxNMy4hCoM/edit?usp=sharing\\n\\n\\n\\nVivek\\n\\n\\n\\n\\n25\\n2408 Sprint 1\\nmWorkorder 2.0\\n[Tech Debt][iOS] File Synchronization Engine\\nMWO2-950\\nhttps://docs.google.com/document/d/1EabLmJdOXWUUxWYeurTcUce_jpFec10cQbtUkTy4_SM/edit\\n\\n\\n\\nVivek\\n\\n\\n\\n\\n26\\n2408 Sprint 1\\nmWorkorder 2.0\\n[Tech Debt][Android] File Synchronization Engine\\nMWO2-951\\nhttps://docs.google.com/document/d/1EabLmJdOXWUUxWYeurTcUce_jpFec10cQbtUkTy4_SM/edit\\n\\n\\n\\nVivek\\n\\n\\n\\n\\n27\\n2408 Sprint 1\\nmWorkorder 2.0\\n[iOS] Graphs User Interface - Dashboard & Analytics\\nMWO2-977\\nhttps://docs.google.com/document/d/1JmLYb9t7foX9P2bwsCSbYk8Rw25LOH1yJkrDhh3M9qo/edit?usp=sharing\\nYes\\n26/06/24\\n26/06/24\\nVivek\\n\\n\\n\\n\\n28\\n2408 Sprint 1\\nmWorkorder 2.0\\n[Android] Graph User Interface - Dashboard & Analytics\\nMWO2-978\\nhttps://docs.google.com/document/d/1JmLYb9t7foX9P2bwsCSbYk8Rw25LOH1yJkrDhh3M9qo/edit?usp=sharing\\nYes\\n26/06/24\\n26/06/24\\nVivek\\n\\n\\n\\n\\n29\\n2408 Sprint 1\\nmWorkorder 2.0\\n[iOS] Data Source for Charts - Dashboard & Analytics - RACE Configuration\\nMWO2-1046\\nhttps://docs.google.com/document/d/1OtTIhG1pGjG6XEiMX-A6aWqkL6xTfst_iHNdsjHxdo8/edit?usp=sharing\\nYes\\n26/06/24\\n26/06/24\\nVivek\\n\\n\\n\\n\\n30\\n2408 Sprint 1\\nmWorkorder 2.0\\n[Android] Data Source for Charts - Dashboard & Analytics - RACE Configuration\\nMWO2-1047\\nhttps://docs.google.com/document/d/1OtTIhG1pGjG6XEiMX-A6aWqkL6xTfst_iHNdsjHxdo8/edit?usp=sharing\\nYes\\n26/06/24\\n26/06/24\\nVivek\\n\\n\\n\\n\\n31\\n2408 Sprint 1\\nmWorkorder 2.0\\n[Android] Notifications - Settings and User Preferences Screen\\nMWO2-1086\\nhttps://docs.google.com/document/d/1c5Wv-JCrgsLwAmqMdsy1xPcr4YQq3Eo3W1_0r2haX_M/edit?usp=sharing\\nYes\\n27/06/24\\n27/06/24\\nVivek\\n\\n\\n\\n\\n32\\n2408 Sprint 1\\nmWorkorder 2.0\\n[iOS] Notifications - Settings and User Preferences Screen\\nMWO2-1087\\nhttps://docs.google.com/document/d/1c5Wv-JCrgsLwAmqMdsy1xPcr4YQq3Eo3W1_0r2haX_M/edit?usp=sharing\\nYes\\n27/06/24\\n27/06/24\\nVivek\\n\\n\\n\\n\\n33\\n2408 Sprint 1\\nmWorkorder 2.0\\n[iOS] Refer mWorkOrder - Settings and User Preferences Screen\\nMWO2-1088\\nhttps://docs.google.com/document/d/1ew1vWAVKrZ7hPymS7ZVxUgYfdkSYt9ZG_XI4_hEo4s0/edit?usp=sharing\\nYes\\n27/06/24\\n27/06/24\\nVivek\\n\\n\\n\\n\\n34\\n2408 Sprint 1\\nmWorkorder 2.0\\n[Android] Refer mWorkOrder - Settings and User Preferences Screen\\nMWO2-1089\\nhttps://docs.google.com/document/d/1ew1vWAVKrZ7hPymS7ZVxUgYfdkSYt9ZG_XI4_hEo4s0/edit?usp=sharing\\nYes\\n27/06/24\\n27/06/24\\nVivek\\n\\n\\n\\n\\n35\\n2408 Sprint 1\\nmWorkorder 2.0\\n[Android] Contact Support (Report Problem) - Settings and User Preferences Screen\\nMWO2-1091\\nhttps://docs.google.com/document/d/1hb2aiWbHQvfEOjwoC6R9Q5or4UmJN-DWkTPsNEkcLrA/edit?usp=sharing\\nYes\\n27/06/24\\n27/06/24\\nVivek\\n\\n\\n\\n\\n36\\n2408 Sprint 1\\nmWorkorder 2.0\\n[iOS] Contact Support (Report Problem) - Settings and User Preferences Screen\\nMWO2-1092\\nhttps://docs.google.com/document/d/1hb2aiWbHQvfEOjwoC6R9Q5or4UmJN-DWkTPsNEkcLrA/edit?usp=sharing\\nYes\\n27/06/24\\n27/06/24\\nVivek\\n\\n\\n\\n\\n37\\n2408 Sprint 2\\nmWorkorder 2.0\\n[iOS] Equipment List & Tree View - Equipment Management\\nMWO2-1050\\nhttps://docs.google.com/document/d/19kASE2D_XILerl3n_OwF5hsrLhECZCkE8br1kdtIt8w/edit?usp=sharing\\nYes\\n27/06/24\\n27/06/24\\nVivek\\n\\n\\n\\n\\n38\\n2408 Sprint 2\\nmWorkorder 2.0\\n[iOS] Screen layout - Execute Work Order\\nMWO2-1052\\nhttps://docs.google.com/document/d/1IdBw6Ta91Q_2ODpblWUWtlkOtRuwxR-WjauNSgP1axU/edit?usp=sharing\\nYes\\n\\n\\nVivek\\n\\n\\n\\n\\n39\\n2408 Sprint 2\\nmWorkorder 2.0\\n[iOS] Equipment Filter View - Equipment Management\\nMWO2-1053\\nhttps://docs.google.com/document/d/1JvuVq74RCup0vmmciZkoQ1VZFHGY6slg67B8GJbIN0c/edit?usp=sharing\\nYes\\n27/06/24\\n27/06/24\\nVivek\\n\\n\\n\\n\\n40\\n2408 Sprint 2\\nmWorkorder 2.0\\n[Android] Screen layout - Execute Work Order\\nMWO2-1054\\nhttps://docs.google.com/document/d/1IdBw6Ta91Q_2ODpblWUWtlkOtRuwxR-WjauNSgP1axU/edit?usp=sharing\\nYes\\n\\n\\nVivek\\n\\n\\n\\n\\n41\\n2408 Sprint 2\\nmWorkorder 2.0\\n[iOS] Equipment Scan Feature - Equipment Management\\nMWO2-1055\\nhttps://docs.google.com/document/d/16BTzrMW-ozXx5q0BsvqVSdvxKXO2fZH70WvgQTbd1ik/edit?usp=drive_link\\nYes\\n\\n\\nShruti\\n\\n\\n\\n\\n42\\n2408 Sprint 2\\nmWorkorder 2.0\\n[iOS] Equipment Search Feature - Equipment Management\\nMWO2-1056\\nhttps://docs.google.com/document/d/13XgXv3innYt_ee8bwby8vtpQDlVF7KI3yvF9PbcKv04/edit?usp=drive_link\\nYes\\n\\n\\nShruti\\n\\n\\n\\n\\n43\\n2408 Sprint 2\\nmWorkorder 2.0\\n[iOS] Equipment Dashboard - Equipment Management\\nMWO2-1057\\nhttps://docs.google.com/document/d/1_4t3G7E_5b_2BA80AkNx1GpXSPcHZyNGBpBtluhi_lY/edit?usp=drive_link\\nYes\\n\\n\\nShruti\\n\\n\\n\\n\\n44\\n2408 Sprint 2\\nmWorkorder 2.0\\n[Android] Create and Submit Permit- Execute Work Order\\nMWO2-1058\\nhttps://docs.google.com/document/d/1y-jQmMmZHtCRqd9H2_EaI73QprHWS8qVy-ryyo8l-U0/edit?usp=drive_link\\nYes\\n\\n\\nShruti\\n\\n\\n\\n\\n45\\n2408 Sprint 2\\nmWorkorder 2.0\\n[iOS] Equipment Details - Equipment Management\\nMWO2-1059\\nhttps://docs.google.com/document/d/1ym6PJViphf_f-Qasc1rKx4xgEwFABCAypPR1K8tUvf0/edit?usp=drive_link\\nYes\\n\\n\\nShruti\\n\\n\\n\\n\\n46\\n2408 Sprint 2\\nmWorkorder 2.0\\n[iOS] Create and Submit Permit- Execute Work Order\\nMWO2-1060\\nhttps://docs.google.com/document/d/1If1X4x6Q_cEt6GJfsbkYxuas62gj7fjNi-DR6L4Qb2g/edit?usp=drive_link\\nYes\\n\\n\\nShruti\\n\\n\\n\\n\\n47\\n2408 Sprint 2\\nmWorkorder 2.0\\n[iOS] Components - Execute Work Order\\nMWO2-1061\\nhttps://docs.google.com/document/d/1BsXRl6siSzDZBmwdM1Mbcxdr5wh2lZCwJmMkR44gJ7g/edit?usp=drive_link\\nYes\\n\\n\\nShruti\\n\\n\\n\\n\\n48\\n2408 Sprint 2\\nmWorkorder 2.0\\n[iOS] Equipment History - Equipment Management\\nMWO2-1062\\nhttps://docs.google.com/document/d/1BF2YLUwa3Wb65cXV5KZX6JmWtAe2HQ8zmbUv5rOQEeg/edit?usp=drive_link\\nYes\\n\\n\\nShruti\\n\\n\\n\\n\\n49\\n2408 Sprint 2\\nmWorkorder 2.0\\n[Android] Components - Execute Work Order\\nMWO2-1063\\nhttps://docs.google.com/document/d/1-sPC-xx-hwvq-GXeBYDpghVVTSslRLFY2MGtWN2EeLA/edit?usp=drive_link\\nYes\\n\\n\\nShruti\\n\\n\\n\\n\\n50\\n2408 Sprint 2\\nmWorkorder 2.0\\n[Android] Operations - Execute Work Order\\nMWO2-1064\\nhttps://docs.google.com/document/d/1xHLqp_tCKLA456bJ1GKGg11oI8XzkpM8dtDL88xx1hU/edit?usp=drive_link\\nYes\\n\\n\\nShruti\\n\\n\\n\\n\\n51\\n2408 Sprint 2\\nmWorkorder 2.0\\n[iOS] Operations - Execute Work Order\\nMWO2-1065\\nhttps://docs.google.com/document/d/1lz1Nb7887PZHxmDO-7yw3Ft8SR4El9Wv5Ndih2qEsRg/edit?usp=drive_link\\nYes\\n\\n\\nShruti\\n\\n\\n\\n\\n52\\n2408 Sprint 2\\nmWorkorder 2.0\\n[iOS] Forms - Execute Work Order\\nMWO2-1066\\nhttps://docs.google.com/document/d/1covmRbYjSeF0lyEWIDIzOYOiy9E6eNyN57UG_nInM2E/edit?usp=drive_link\\nYes\\n\\n\\nShruti\\n\\n\\n\\n\\n53\\n2408 Sprint 2\\nmWorkorder 2.0\\n[Android] Forms - Execute Work Order\\nMWO2-1067\\nhttps://docs.google.com/document/d/1eK2zzKA6y2Idj69q21dDRAxCjUELE0HnRxG4emAcEGA/edit?usp=drive_link\\nYes\\n\\n\\nShruti\\n\\n\\n\\n\\n54\\n2408 Sprint 2\\nmWorkorder 2.0\\n[Android] Equipment List & Tree View - Equipment Management\\nMWO2-1068\\nhttps://docs.google.com/document/d/1mM9jVVTWdkrzwlh-Lkm3PetG3C2USGJjLdqc7ix07YQ/edit?usp=drive_link\\nYes\\n\\n\\nShruti\\n\\n\\n\\n\\n55\\n2408 Sprint 2\\nmWorkorder 2.0\\n[Android] Equipment Filter View - Equipment Management\\nMWO2-1069\\nhttps://docs.google.com/document/d/1gt67ukvDz0IiCAHn060TusUe_zxTQuqAjuWjUJZlxmg/edit?usp=drive_link\\nYes\\n\\n\\nShruti\\n\\n\\n\\n\\n56\\n2408 Sprint 2\\nmWorkorder 2.0\\n[Android] Equipment Scan Feature - Equipment Management\\nMWO2-1070\\nhttps://docs.google.com/document/d/1k0a8SVCPbcKE8YdyxeuhQOlqrgbI1afqPtJsrQw6R9E/edit?usp=drive_link\\nYes\\n\\n\\nShruti\\n\\n\\n\\n\\n57\\n2408 Sprint 2\\nmWorkorder 2.0\\n[Android] Equipment Search Feature - Equipment Management\\nMWO2-1071\\nhttps://docs.google.com/document/d/1J0rF01FDrO2EhWd9vIJYA-i9QKucHCjhJwKoaZQhmvg/edit?usp=drive_link\\nYes\\n\\n\\nShruti\\n\\n\\n\\n\\n58\\n2408 Sprint 2\\nmWorkorder 2.0\\n[Android] Equipment Dashboard - Equipment Management\\nMWO2-1072\\nhttps://docs.google.com/document/d/1SKwximkSthL-GqysAfXTYuayGQOz5H59FYVr0IyFH7c/edit?usp=drive_link\\nYes\\n\\n\\nShruti\\n\\n\\n\\n\\n59\\n2408 Sprint 2\\nmWorkorder 2.0\\n[Android] Equipment Details - Equipment Management\\nMWO2-1073\\nhttps://docs.google.com/document/d/1nWTkulSzsstpoqJKm4jfty31vTZgsvYqjaW8yiOoshs/edit?usp=drive_link\\nYes\\n\\n\\nShruti\\n\\n\\n\\n\\n60\\n2408 Sprint 2\\nmWorkorder 2.0\\n[Android] Equipment History - Equipment Management\\nMWO2-1075\\nhttps://docs.google.com/document/d/1eh6-q8gwyxU9Qx7nf5Zrp2A-ahH_sBt2qkE7ZdXb_eA/edit?usp=drive_link\\nYes\\n\\n\\nShruti\\n\\n\\n\\n\\n\\n\\n\\n\\n\\n61\\n2407 Sprint 1\\nRACE 2.0\\nAs a user I should be able to login to Innovapptive products using SSO authentication services so that i can reuse my internal login procedures\\nRACE2-298\\nhttps://docs.google.com/document/d/14bB9eplOABag_tsjaUEJKXAf9mNyF1oCv8WpXiQsgJ4/edit?usp=sharing\\nYes\\n\\n\\nMudit\\n\\n\\n62\\n2407 Sprint 1\\nRACE 2.0\\nLocalisation: Admin can create and edit a language suite from the Platform itself Part 1\\nRACE2-351\\nhttps://docs.google.com/document/d/1TzyV7KBFYkUd2Ha5Tf74wkTnCyivHlO__gherv3BzXU/edit?usp=sharing\\nYes\\n\\n\\nMudit\\n\\n\\n63\\n2407 Sprint 1\\nRACE 2.0\\nIssue Module Integrations - JSON templates for Preview Card\\nRACE2-367\\n\\n\\n\\n\\nMudit\\n\\n\\n64\\n2407 Sprint 1\\nRACE 2.0\\nIssue Module Integrations - JSON templates for Issue List Card Screen\\nRACE2-368\\n\\n\\n\\n\\nMudit\\n\\n\\n65\\n2407 Sprint 1\\nRACE 2.0\\nImplement Risk Matrix Response Type for Integration with Apps\\nRACE2-396\\nhttps://docs.google.com/document/d/1tycdnbmtphjX6upnjG_P3eYzC1Ii1h95CyiQK6B5yAg/edit?usp=sharing\\nYes\\n\\n\\nMudit\\n\\n\\n66\\n2407 Sprint 1\\nRACE 2.0\\nLocalisation: Admin can create and edit a language suite using excel upload.\\nRACE2-470\\nhttps://docs.google.com/document/d/17nq15C-nDqKhZJibLsqdYAjOhWyfXt4t9hQKlYH8UdY/edit?usp=sharing\\n\\n\\n\\nVivek\\n\\n\\n67\\n2407 Sprint 2\\nRACE 2.0\\nAs an Admin, I should be able to manage performance setting - On/off at the application level so that i can control the way data flows into the application\\nRACE2-20\\n\\n\\n\\n\\nVivek\\n\\n\\n68\\n2407 Sprint 2\\nRACE 2.0\\nAs a user I should be able to login to Innovapptive products using SSO authentication services so that i can reuse my internal login procedures\\nRACE2-298\\nhttps://docs.google.com/document/d/1YYv3CDEt2_UepFkhHtvM6vixSNaNvoV_/edit?rtpof=true\\n\\n\\n\\nVivek\\n\\n\\n69\\n2407 Sprint 2\\nRACE 2.0\\nWorkorder Module - UI screen for Create WorkOrder\\nRACE2-369\\nhttps://docs.google.com/document/d/1jZz8z4HC8KMrXTd5OQ2ZMgh2VBJ0kPD1ViNcXPtGibQ/edit\\n\\n\\n\\nVivek\\n\\n\\n70\\n2407 Sprint 2\\nRACE 2.0\\nWorkorder Module Integrations - JSON templates for Preview Card\\nRACE2-370\\nhttps://docs.google.com/document/d/1wThcm6TC9-kTyjY2MPfcqOVv7qBKjvv1cH-d7pvXlhI/edit#heading=h.vx4y90iiqp8x\\n\\n\\n\\nShruti\\n\\n\\n71\\n2407 Sprint 2\\nRACE 2.0\\nWorkorder Module Integrations - JSON templates for List Card\\nRACE2-371\\nhttps://docs.google.com/document/d/1upMZ-rohZI2w-rh5eY9xSa_ti3fasq__kdOkGWigef0/edit#heading=h.ai0vv1oaxhea\\n\\n\\n\\nShruti\\n\\n\\n72\\n2407 Sprint 2\\nRACE 2.0\\nEnable functionality for all the Response Types\\nRACE2-463\\nhttps://docs.google.com/document/d/1DZ-BcYe8hsinNNlq2V6ALj7SkjWO_907W9EdE_565Ms/edit#heading=h.v925zt9awlhk\\n\\n\\n\\nShruti\\n\\n\\n73\\n2407 Sprint 2\\nRACE 2.0\\nConfigure Priorities and Generate Matrix. Risk Matrix Response Type send JSON to mobile along with the due date.\\nRACE2-551\\nhttps://docs.google.com/document/d/1m2ntQKX3or2hmNxMk5a50S216FiQvPZ1MLNixaZNkZk/edit#heading=h.86ag80exogn0\\n\\n\\n\\nShruti\\n\\n\\n74\\n2407 Sprint 2\\nRACE 2.0\\nLocalisation: Admin can create and edit a language suite from the Platform itself (part 2)\\nRACE2-552\\nhttps://docs.google.com/document/d/1AwgTRVhiyxjNtL9P61zkAjHcB86kDGO6NIdWjhNk5sA/edit\\n\\n\\n\\nShruti\\n\\n\\n\\n\\n\\n\\n\\n75\\n2407 Sprint 1\\nmWorkOrder\\n[Android] As a maint. technician, I need to be alerted of any missed mandatory fields while entering data so that I can take corrective action instantly\\nMWO-43571\\nhttps://docs.google.com/document/d/1dk6O3ZP3wWug5GCUk8PC97vGa7NY8bPUjoOwlw6vH-Q/edit?usp=sharing\\n\\n\\n76\\n2407 Sprint 1\\nmWorkOrder\\n[IOS] Enhancing the visibility of Convert to WorkOrder button in Notification dashboard\\nMWO-43683\\nhttps://docs.google.com/document/d/1BKyfe7hhdV2YUJkbVdhJSjDx-r5iWTkqdmgl4cOPmrg/edit?usp=sharing\\n\\n\\n77\\n2407 Sprint 1\\nmWorkOrder\\n[iOS] Improve User Experience for MWO screens - Enhancing Long text fields\\nMWO-43771\\nhttps://docs.google.com/document/d/1_IwhxEMdB5nTFJtYZYAgcafIB4Q1wEjauo0pIYiZdwQ/edit?usp=sharing\\n\\n\\n78\\n2407 Sprint 1\\nmWorkOrder\\n[ABAP] Productivity dashboard - Break In Work Reporting / Number of ZMBR WO created by Technicians\\nMWO-43773\\nhttps://docs.google.com/document/d/1Zp_nFnK5MnVHdmHWIS4JuU5kLmaBuQjicynRZFzktFk/edit?usp=sharing\\n\\n\\n79\\n2407 Sprint 1\\nmWorkOrder\\n[ABAP] Productivity dashboard - Break In Work Reporting / Time reported on ZMBR Work Orders by Technicians\\nMWO-43774\\nhttps://docs.google.com/document/d/1KGEXddpqXh1xekJDVo4qGgNpfgePZazL7fxc-uWLWNA/edit?usp=sharing\\n\\n\\n80\\n2407 Sprint 1\\nmWorkOrder\\n[ABAP] Efficiency and Reliability dashboard- Number of CR Type Notification Created during ZMPR WO Execution.\\nMWO-43776\\nhttps://docs.google.com/document/d/1Mid_O_XwC3iVh6kwmX7kGUuZrbwK1UZ4HNgi6IMw3OA/edit?usp=sharing\\n\\n\\n81\\n2407 Sprint 1\\nmWorkOrder\\n[ABAP] Efficiency and Reliability dashboard- Number of Notifications with Item and Cause Codes in SAP.\\nMWO-43777\\nhttps://docs.google.com/document/d/1kPOCJXLWuOx0ooX7HGmPf_oXULAdfL5aeY_n7hK5ZR0/edit?usp=sharing\\n\\n\\n82\\n2407 Sprint 1\\nmWorkOrder\\nMix panel Integration - 2208 Version\\nMWO-43989\\nhttps://docs.google.com/document/d/1e9Fgea1D5YQYlz9GZeoKe0z-p3Qk-T6PHnsP-z3xLHE/edit?usp=sharing\\n\\n\\n83\\n2407 Sprint 1\\nmWorkOrder\\nMix panel Integration - 2201 Version\\nMWO-43990\\nhttps://docs.google.com/document/d/172VtPVPz-1FXoqJA-uELAopEy5y90_uuoNWTsS1zL3I/edit?usp=sharing\\n\\n\\n\\n\\n\\n\\n\\n84\\n2406\\nConnected Back Office\\n[iOS][Apple Feedback]User Experience/User Interface Improvements for Mobile Execution\\nCWP-5851\\n\\n\\n\\n85\\n2406\\nConnected Back Office\\n[iOS] [Parity] Ability to remove passcode configuration based on Tenant Configuration\\nCWP-5928\\n\\n\\n\\n86\\n2406\\nConnected Back Office\\n[Android] Ability to access mobile Application in my preferred language and region, so that I can seamlessly navigate and utilize the app without language barriers.\\nCWP-6139\\nhttps://docs.google.com/document/d/1k4_oOtkZ4danyDwRHLpfukFBkGNSI0v9hc-BX-R5u8U/\\n\\n\\n87\\n2406\\nConnected Back Office\\n[iOS] Ability to access mobile Application in my preferred language and region, so that I can seamlessly navigate and utilize the app without language barriers.\\nCWP-6140\\nhttps://www.figma.com/proto/4UxkppZV84zTWI0jVZr3bh/mRound-and-mInspections-iOS-Designs?page-id=7593%3A2643&node-id=7879-41832&viewport=469%2C-171%2C0.44&t=4NstOKABWRoklywJ-1&scaling=scale-down&starting-point-node-id=7879%3A41832&show-proto-sidebar=1\\n\\n\\n88\\n2406\\nConnected Back Office\\n[Web] Ability to create Rounds Exception and Compliance Reporting\\nCWP-6316\\n\\n\\n\\n89\\n2406\\nConnected Back Office\\n[Web] Forms creation using generative AI\\nCWP-6464\\nhttps://docs.google.com/document/d/1yUep1AxSrBpHFcAPfpkVR4RkmMnMn1KxfXaB3WOP9ZY/edit?usp=sharing\\n\\n\\n90\\n2406\\nConnected Back Office\\n[Improvement] [iOS] As an Operator the system should automatically convert Ito an SAP Notification if a specific category is chosen.\\nCWP-7188\\nhttps://docs.google.com/document/d/1jhvTpQsACh_ABGHADPutAgPYE43DM22gwfyvM4AwKcM/edit?usp=sharing\\n\\n\\n91\\n2406\\nConnected Back Office\\n[Improvement] [Web] Ability to create Break down notifications while creating Issues based on configuration\\nCWP-7744\\nhttps://docs.google.com/document/d/12413dpgNzJsduTE1absrEwdQCQ6QRQhLExuswxnJZFs/edit?usp=sharing\\n\\n\\n92\\n2406\\nConnected Back Office\\n[Improvement] [Android] As an Operator the system should automatically convert Ito an SAP Notification if a specific category is chosen.\\nCWP-7913\\nhttps://drive.google.com/file/d/1lRVkKmQ8I067gRa0kRT9J-C9NHnEc_TE/view?usp=sharing\\n\\n\\n93\\n2406\\nConnected Back Office\\n[Web] As a Supervisor, I should be able to create Issue from the CWP Application and assign it to the respective User/User Group\\nCWP-8303\\n\\n\\n\\n94\\n2406\\nConnected Back Office\\n[Android] [Location Intelligence]As a Supervisor/ Round Admin, I should have the ability to identify the location of the Round/Inspection Execution in the field so that I can know if the data is being collected in the right location\\nCWP-8433\\nhttps://docs.google.com/document/d/1nGYKhEdM6vYWhy9ucwD0LPjjegqJFFeL5My-Aej28Bc/edit?usp=sharing\\n\\n\\n95\\n2406\\nConnected Back Office\\n[iOS] [Location Intelligence]As a Supervisor/ Round Admin, I should have the ability to identify the location of the Round/Inspection Execution in the field so that I can know if the data is being collected in the right location\\nCWP-8441\\nhttps://docs.google.com/document/d/11c5zHFQsuNah7Qfq9z2_H9VMIJzpEniZgWu1Ypc_XrM/edit\\n\\n\\n96\\n2406\\nConnected Back Office\\n[Web][Location Intelligence] [POC]As a Supervisor/ Round Admin, I should have the ability to identify if a task is being executed in the designated zone\\nCWP-8488\\nhttps://docs.google.com/document/d/1RxqcT4d7lFaanksZfqDh1dY0EYn5QOOsF5yU3skyx0A/edit?usp=sharing\\n\\n\\n97\\n2406\\nConnected Back Office\\n[iOS] Ability to show previous reading on the task\\nCWP-8646\\nhttps://docs.google.com/document/d/1jhvTpQsACh_ABGHADPutAgPYE43DM22gwfyvM4AwKcM/edit?usp=sharing\\n\\n\\n98\\n2408 Sprint 1\\nConnected Back Office\\n[Android][Dev Closure] Ability to access mobile Application in my preferred language and region, so that I can seamlessly navigate and utilize the app without language barriers.\\nCWP-9017\\nhttps://docs.google.com/document/d/1k4_oOtkZ4danyDwRHLpfukFBkGNSI0v9hc-BX-R5u8U/\\n\\n\\n99\\n2408 Sprint 1\\nConnected Back Office\\n[iOS][Dev closure] Ability to access mobile Application in my preferred language and region, so that I can seamlessly navigate and utilize the app without language barriers.\\nCWP-9016\\n\\n\\n\\n100\\n2408 Sprint 1\\nConnected Back Office\\n[Web][Scope 2] Ability to create Rounds Exception and Compliance Reporting\\nCWP-8965\\n\\n\\n\\n101\\n2408 Sprint 1\\nConnected Back Office\\n[Web] Ability to filter data on the basis of Units in the WebApp (Except Round Plans, Scheduler, Observation)\\nCWP-8584\\n\\n\\n\\n102\\n2408 Sprint 1\\nConnected Back Office\\n[Web] Ability to localize the texts in the Web Application so that I can access and interact with the web application in my preferred language and region without language barriers.\\nCWP-6138\\n\\n\\n\\n103\\n2408 Sprint 2\\nConnected Back Office\\n[Web] Ability to configure Actions\\nCWP-4504\\n\\n\\n\\n104\\n2408 Sprint 2\\nConnected Back Office\\n[Web][Value 360] Ability to show mInventory Adoption metrics in the Value 360 Dashboard\\nCWP-7594\\n\\n\\n\\n105\\n2408 Sprint 2\\nConnected Back Office\\n[Value 360] mWorkorder Productivity Dashboard\\nCWP-7891\\n\\n\\n\\n106\\n2408 Sprint 2\\nConnected Back Office\\n[Web] Email Subscription for OOTB Dashboard and with Configurability\\nCWP-8492\\n\\n\\n\\n107\\n2408 Sprint 2\\nConnected Back Office\\n[iOS] Ability to configure Actions\\nCWP-8534\\n\\n\\n\\n108\\n2408 Sprint 2\\nConnected Back Office\\n[Web][Location Intelligence] As a Supervisor/ Round Admin, I should have the ability to identify if a task is being executed in the designated zone\\nCWP-8876\\nhttps://docs.google.com/document/d/1RxqcT4d7lFaanksZfqDh1dY0EYn5QOOsF5yU3skyx0A/edit?usp=sharing\\n\\n\\n109\\n2408 Sprint 2\\nConnected Back Office\\n[iOS] Ability to have default text for Issue Creation & Text formatting Options for LTV\\nCWP-8993\\n\\n\\n\\n110\\n2408 Sprint 2\\nConnected Back Office\\n[Android] Ability to have default text for Issue Creation & Text formatting Options for LTV\\nCWP-8994\\n\\n\\n\\n111\\n2408 Sprint 2\\nConnected Back Office\\n[Web] Ability to have default text for Issue Creation & Text formatting Options for LTV\\nCWP-8995\\n\\n\\n\\n112\\n2408 Sprint 2\\nConnected Back Office\\n[Web][Geo-location] Create Compliance Reports for Geo Location\\nCWP-9052\\n\\n\\n\\n113\\n2408 Sprint 2\\nConnected Back Office\\n[Web][Scope-2] Compliance Dashboard - Drill Down for Reports, PDF Generation,  Email Report\\nCWP-9106\\n\\n\\n\\n114\\n2408 Sprint 3\\nConnected Back Office\\n[Web][Value 360] Ability to show Efficiency and Reliability of Assets Dashboard in the CBO\\nCWP-7887\\nhttps://docs.google.com/document/d/1CAINGbebzcvMJjearvQfhu2hyMI-3FfR6yaQx_hmbDQ/edit?usp=sharing\\n\\n\\n\\n\\nRace 2.0\\n\\nmWO 2.0\\n\\nmRounds\\n\\nCWP\\n\\n\\n\\n\\nmWO1.0\\nSprint 2 not present\\n\\n\\n'"
      ]
     },
     "execution_count": 5,
     "metadata": {},
     "output_type": "execute_result"
    }
   ],
   "source": [
    "# Preview first page\n",
    "data[0].page_content"
   ]
  },
  {
   "cell_type": "markdown",
   "id": "c2faacc1-be29-4d52-a46e-94f5b5b8e728",
   "metadata": {},
   "source": [
    "## Vector Embeddings"
   ]
  },
  {
   "cell_type": "code",
   "execution_count": 6,
   "id": "2dcf2cfe-a7aa-4ecf-85e3-f77b9e850514",
   "metadata": {
    "scrolled": true
   },
   "outputs": [
    {
     "name": "stdout",
     "output_type": "stream",
     "text": [
      "\u001b[?25lpulling manifest ⠋ \u001b[?25h\u001b[?25l\u001b[2K\u001b[1Gpulling manifest ⠹ \u001b[?25h\u001b[?25l\u001b[2K\u001b[1Gpulling manifest ⠹ \u001b[?25h\u001b[?25l\u001b[2K\u001b[1Gpulling manifest ⠼ \u001b[?25h\u001b[?25l\u001b[2K\u001b[1Gpulling manifest ⠼ \u001b[?25h\u001b[?25l\u001b[2K\u001b[1Gpulling manifest ⠦ \u001b[?25h\u001b[?25l\u001b[2K\u001b[1Gpulling manifest \n",
      "pulling 970aa74c0a90... 100% ▕████████████████▏ 274 MB                         \n",
      "pulling c71d239df917... 100% ▕████████████████▏  11 KB                         \n",
      "pulling ce4a164fc046... 100% ▕████████████████▏   17 B                         \n",
      "pulling 31df23ea7daa... 100% ▕████████████████▏  420 B                         \n",
      "verifying sha256 digest ⠋ \u001b[?25h\u001b[?25l\u001b[2K\u001b[1G\u001b[A\u001b[2K\u001b[1G\u001b[A\u001b[2K\u001b[1G\u001b[A\u001b[2K\u001b[1G\u001b[A\u001b[2K\u001b[1G\u001b[A\u001b[2K\u001b[1Gpulling manifest \n",
      "pulling 970aa74c0a90... 100% ▕████████████████▏ 274 MB                         \n",
      "pulling c71d239df917... 100% ▕████████████████▏  11 KB                         \n",
      "pulling ce4a164fc046... 100% ▕████████████████▏   17 B                         \n",
      "pulling 31df23ea7daa... 100% ▕████████████████▏  420 B                         \n",
      "verifying sha256 digest ⠙ \u001b[?25h\u001b[?25l\u001b[2K\u001b[1G\u001b[A\u001b[2K\u001b[1G\u001b[A\u001b[2K\u001b[1G\u001b[A\u001b[2K\u001b[1G\u001b[A\u001b[2K\u001b[1G\u001b[A\u001b[2K\u001b[1Gpulling manifest \n",
      "pulling 970aa74c0a90... 100% ▕████████████████▏ 274 MB                         \n",
      "pulling c71d239df917... 100% ▕████████████████▏  11 KB                         \n",
      "pulling ce4a164fc046... 100% ▕████████████████▏   17 B                         \n",
      "pulling 31df23ea7daa... 100% ▕████████████████▏  420 B                         \n",
      "verifying sha256 digest \n",
      "writing manifest \n",
      "removing any unused layers \n",
      "success \u001b[?25h\n"
     ]
    }
   ],
   "source": [
    "!ollama pull nomic-embed-text"
   ]
  },
  {
   "cell_type": "code",
   "execution_count": 7,
   "id": "39aebbf8-92bf-42e5-951e-40bb458852d5",
   "metadata": {},
   "outputs": [
    {
     "name": "stdout",
     "output_type": "stream",
     "text": [
      "NAME                   \tID          \tSIZE  \tMODIFIED       \n",
      "mistral:latest         \t2ae6f6dd7a3d\t4.1 GB\t12 hours ago  \t\n",
      "nomic-embed-text:latest\t0a109f422b47\t274 MB\t32 seconds ago\t\n"
     ]
    }
   ],
   "source": [
    "!ollama list"
   ]
  },
  {
   "cell_type": "code",
   "execution_count": 8,
   "id": "5394d61f-906b-4776-b8b5-9f0045c76193",
   "metadata": {},
   "outputs": [
    {
     "name": "stdout",
     "output_type": "stream",
     "text": [
      "Note: you may need to restart the kernel to use updated packages.\n",
      "Note: you may need to restart the kernel to use updated packages.\n"
     ]
    }
   ],
   "source": [
    "%pip install --q chromadb\n",
    "%pip install --q langchain-text-splitters"
   ]
  },
  {
   "cell_type": "code",
   "execution_count": 9,
   "id": "83a39856-0cc0-4ebe-8024-9db32455a545",
   "metadata": {},
   "outputs": [],
   "source": [
    "from langchain_community.embeddings import OllamaEmbeddings\n",
    "from langchain_text_splitters import RecursiveCharacterTextSplitter\n",
    "from langchain_community.vectorstores import Chroma"
   ]
  },
  {
   "cell_type": "code",
   "execution_count": 10,
   "id": "bad040e2-3abe-4e23-abb9-951b223b9262",
   "metadata": {},
   "outputs": [],
   "source": [
    "# Split and chunk \n",
    "text_splitter = RecursiveCharacterTextSplitter(chunk_size=7500, chunk_overlap=100)\n",
    "chunks = text_splitter.split_documents(data)"
   ]
  },
  {
   "cell_type": "code",
   "execution_count": 11,
   "id": "efb11c92-e732-4a88-8f57-57a19b38e383",
   "metadata": {},
   "outputs": [
    {
     "name": "stderr",
     "output_type": "stream",
     "text": [
      "OllamaEmbeddings: 100%|██████████| 4/4 [00:11<00:00,  2.85s/it]\n"
     ]
    }
   ],
   "source": [
    "# Add to vector database\n",
    "vector_db = Chroma.from_documents(\n",
    "    documents=chunks, \n",
    "    embedding=OllamaEmbeddings(model=\"nomic-embed-text\",show_progress=True),\n",
    "    collection_name=\"local-rag\"\n",
    ")"
   ]
  },
  {
   "cell_type": "markdown",
   "id": "39eadf50-2f3d-4420-8858-94e9c1682ffa",
   "metadata": {},
   "source": [
    "## Retrieval"
   ]
  },
  {
   "cell_type": "code",
   "execution_count": 12,
   "id": "5ec338c4-f282-462f-b0a0-c1899538eb07",
   "metadata": {},
   "outputs": [],
   "source": [
    "from langchain.prompts import ChatPromptTemplate, PromptTemplate\n",
    "from langchain_core.output_parsers import StrOutputParser\n",
    "from langchain_community.chat_models import ChatOllama\n",
    "from langchain_core.runnables import RunnablePassthrough\n",
    "from langchain.retrievers.multi_query import MultiQueryRetriever"
   ]
  },
  {
   "cell_type": "code",
   "execution_count": 13,
   "id": "d1d6ceeb-6883-4688-b923-e771c2b2cb07",
   "metadata": {},
   "outputs": [],
   "source": [
    "# LLM from Ollama\n",
    "local_model = \"mistral\"\n",
    "llm = ChatOllama(model=local_model)"
   ]
  },
  {
   "cell_type": "code",
   "execution_count": 14,
   "id": "c436d5cd-5dd0-448c-b5c0-6eddab879c2a",
   "metadata": {},
   "outputs": [],
   "source": [
    "QUERY_PROMPT = PromptTemplate(\n",
    "    input_variables=[\"question\"],\n",
    "    template=\"\"\"You are an AI language model assistant. Your task is to generate five\n",
    "    different versions of the given user question to retrieve relevant documents from\n",
    "    a vector database. By generating multiple perspectives on the user question, your\n",
    "    goal is to help the user overcome some of the limitations of the distance-based\n",
    "    similarity search. Provide these alternative questions separated by newlines.\n",
    "    Original question: {question}\"\"\",\n",
    ")"
   ]
  },
  {
   "cell_type": "code",
   "execution_count": 15,
   "id": "71e423dc-f632-46f8-9bec-d74cb268ab74",
   "metadata": {},
   "outputs": [],
   "source": [
    "retriever = MultiQueryRetriever.from_llm(\n",
    "    vector_db.as_retriever(), \n",
    "    llm,\n",
    "    prompt=QUERY_PROMPT\n",
    ")\n",
    "\n",
    "# RAG prompt\n",
    "template = \"\"\"Answer the question based ONLY on the following context:\n",
    "{context}\n",
    "Question: {question}\n",
    "\"\"\"\n",
    "\n",
    "prompt = ChatPromptTemplate.from_template(template)"
   ]
  },
  {
   "cell_type": "code",
   "execution_count": 16,
   "id": "cb1f308f-8472-4506-9517-d79b61d408f2",
   "metadata": {},
   "outputs": [],
   "source": [
    "chain = (\n",
    "    {\"context\": retriever, \"question\": RunnablePassthrough()}\n",
    "    | prompt\n",
    "    | llm\n",
    "    | StrOutputParser()\n",
    ")"
   ]
  },
  {
   "cell_type": "code",
   "execution_count": 17,
   "id": "915fb18b-cb57-42cf-a9b3-c6f95d3c4e32",
   "metadata": {
    "scrolled": true
   },
   "outputs": [
    {
     "name": "stderr",
     "output_type": "stream",
     "text": [
      "OllamaEmbeddings: 100%|██████████| 1/1 [00:00<00:00,  2.87it/s]\n",
      "OllamaEmbeddings: 100%|██████████| 1/1 [00:00<00:00, 10.12it/s]\n",
      "OllamaEmbeddings: 100%|██████████| 1/1 [00:00<00:00,  4.33it/s]\n",
      "OllamaEmbeddings: 100%|██████████| 1/1 [00:00<00:00,  7.71it/s]\n",
      "OllamaEmbeddings: 100%|██████████| 1/1 [00:00<00:00,  5.83it/s]\n"
     ]
    },
    {
     "data": {
      "text/plain": [
       "' The different projects in this file are as follows:\\n1. Connected Back Office (CBO)\\n2. Value 360\\n3. Race 2.0\\n4. mWO 2.0\\n5. mRounds'"
      ]
     },
     "execution_count": 17,
     "metadata": {},
     "output_type": "execute_result"
    }
   ],
   "source": [
    "chain.invoke(input(\"\"))"
   ]
  },
  {
   "cell_type": "code",
   "execution_count": 28,
   "id": "06c25c1d-d205-409e-90a2-179d0bd7c41a",
   "metadata": {},
   "outputs": [
    {
     "name": "stderr",
     "output_type": "stream",
     "text": [
      "OllamaEmbeddings: 100%|██████████| 1/1 [00:00<00:00,  2.56it/s]\n",
      "OllamaEmbeddings: 100%|██████████| 1/1 [00:00<00:00,  7.93it/s]\n",
      "OllamaEmbeddings: 100%|██████████| 1/1 [00:00<00:00,  4.34it/s]\n",
      "OllamaEmbeddings: 100%|██████████| 1/1 [00:00<00:00,  7.41it/s]\n",
      "OllamaEmbeddings: 100%|██████████| 1/1 [00:00<00:00,  4.80it/s]\n"
     ]
    },
    {
     "data": {
      "text/plain": [
       "' The 5 pillars of global cooperation, as outlined in the World Economic Forum (WEF) Global Cooperation Barometer 2023, are as follows:\\n1. Economy and Trade\\n2. Innovation and Technology\\n3. Climate and Environment\\n4. Security and Governance\\n5. Health and Human Development\\n\\nEach of these pillars represents a critical area where cooperation among countries can lead to mutual benefits and address global challenges effectively. The WEF Global Cooperation Barometer 2023 assesses the state of cooperation in each pillar using various metrics and indexes, providing insights into how closely nations are working together on these issues and identifying areas for improvement.\\n\\n[Citation: \"WEF_The_Global_Cooperation_Barometer_2024.pdf\"]'"
      ]
     },
     "execution_count": 28,
     "metadata": {},
     "output_type": "execute_result"
    }
   ],
   "source": [
    "chain.invoke(\"What are the 5 pillars of global cooperation?\")"
   ]
  },
  {
   "cell_type": "code",
   "execution_count": null,
   "id": "dfe79f21-48aa-4820-aa9f-79f3d1a0a519",
   "metadata": {},
   "outputs": [],
   "source": [
    "# Delete all collections in the db\n",
    "vector_db.delete_collection()"
   ]
  }
 ],
 "metadata": {
  "kernelspec": {
   "display_name": "Python 3 (ipykernel)",
   "language": "python",
   "name": "python3"
  },
  "language_info": {
   "codemirror_mode": {
    "name": "ipython",
    "version": 3
   },
   "file_extension": ".py",
   "mimetype": "text/x-python",
   "name": "python",
   "nbconvert_exporter": "python",
   "pygments_lexer": "ipython3",
   "version": "3.10.12"
  }
 },
 "nbformat": 4,
 "nbformat_minor": 5
}
